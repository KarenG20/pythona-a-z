{
  "nbformat": 4,
  "nbformat_minor": 0,
  "metadata": {
    "colab": {
      "name": "01-01-entrada.ipynb",
      "provenance": [],
      "collapsed_sections": [],
      "include_colab_link": true
    },
    "kernelspec": {
      "name": "python3",
      "display_name": "Python 3"
    }
  },
  "cells": [
    {
      "cell_type": "markdown",
      "metadata": {
        "id": "view-in-github",
        "colab_type": "text"
      },
      "source": [
        "<a href=\"https://colab.research.google.com/github/KarenG20/pythona-a-z/blob/main/01_01_entrada.ipynb\" target=\"_parent\"><img src=\"https://colab.research.google.com/assets/colab-badge.svg\" alt=\"Open In Colab\"/></a>"
      ]
    },
    {
      "cell_type": "markdown",
      "metadata": {
        "id": "FozkaU1q4Q5W"
      },
      "source": [
        "# Presentaciones\n",
        "\n",
        "Pyratilla ha decidido escribir una ficha de presentación donde constan sus datos:"
      ]
    },
    {
      "cell_type": "code",
      "metadata": {
        "id": "mGwh0HUp4aoY"
      },
      "source": [
        "name = \"Pyratilla\"\n",
        "age = 17\n",
        "pet = True\n",
        "pet_name = \"Pyo\"\n",
        "ocupation = \"Pirata\" # Y en cuanto tenga tripulación, seré capitán\n",
        "coins = 0"
      ],
      "execution_count": null,
      "outputs": []
    },
    {
      "cell_type": "markdown",
      "metadata": {
        "id": "ADATerB05qOf"
      },
      "source": [
        "# Empieza la aventura\n",
        "\n",
        "A pesar de haber sido un poco problemático, los habitantes del pueblo natal de Pyratilla le han acabado cogiendo cariño, hasta tal punto que entre todos han decidido hacerle un regalo de despedida: darle un total de 100 monedas para que empiece su viaje tranquilo y pueda comprar un barco en condiciones en el pueblo vecino.\n",
        "\n",
        "Con lo cual, Pyratilla muy agradecido empieza su aventura poniendo rumbo al pueblo vecino, no sin antes hacer una ligera modificación en su ficha de presentación:"
      ]
    },
    {
      "cell_type": "code",
      "metadata": {
        "id": "twYRchmI6FU1",
        "colab": {
          "base_uri": "https://localhost:8080/"
        },
        "outputId": "e53c1464-2046-4f47-8dc7-16f43b652f63"
      },
      "source": [
        "coins += 100\n",
        "print (coins)"
      ],
      "execution_count": null,
      "outputs": [
        {
          "output_type": "stream",
          "name": "stdout",
          "text": [
            "100\n"
          ]
        }
      ]
    }
  ]
}