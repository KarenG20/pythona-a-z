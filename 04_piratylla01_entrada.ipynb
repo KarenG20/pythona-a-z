{
  "nbformat": 4,
  "nbformat_minor": 0,
  "metadata": {
    "colab": {
      "provenance": [],
      "include_colab_link": true
    },
    "kernelspec": {
      "name": "python3",
      "display_name": "Python 3"
    }
  },
  "cells": [
    {
      "cell_type": "markdown",
      "metadata": {
        "id": "view-in-github",
        "colab_type": "text"
      },
      "source": [
        "<a href=\"https://colab.research.google.com/github/KarenG20/pythona-a-z/blob/main/04_piratylla01_entrada.ipynb\" target=\"_parent\"><img src=\"https://colab.research.google.com/assets/colab-badge.svg\" alt=\"Open In Colab\"/></a>"
      ]
    },
    {
      "cell_type": "markdown",
      "metadata": {
        "id": "7-w9Es5sktLa"
      },
      "source": [
        "# Filtrando solicitudes\n",
        "\n",
        "Pyratilla hizo un formulario para que los interesados en formar parte de su tripulación rellenaran y así poder evitarse más de una entrevista innecesaria.\n",
        "\n",
        "Ahora es momento de filtrar las convocatorias:\n",
        "\n",
        "- El nombre debe empezar por mayúscula. Si es un nombre compuesto, entonces todos deben empezar por mayúscula.\n",
        "- La edad debe ser mayor o igual a 16 y menor o igual a 40.\n",
        "- El hobby indicado debe tener más de 10 caracteres.\n",
        "- La casilla del sueño no puede haber sido dejada en blanco.\n",
        "\n",
        "Ayuda a Pyratilla a crear este filtro para descartar solicitudes que no cumplan estos requisitos."
      ]
    },
    {
      "cell_type": "code",
      "metadata": {
        "id": "4aq25-Qrktd8"
      },
      "source": [
        "name = input (\"Digita nombre: \")\n",
        "name= name.title();\n",
        "yearold = int(input (\"Digita edad: \"))\n",
        "if yearold >= 16 and yearold <= 40:\n",
        "    hobby = input (\"Digita hobby: \")\n",
        "    if len(hobby) > 10:\n",
        "      dream = input (\"Digita sueño: \")\n",
        "      if len (dream) != 0:\n",
        "        print (\"{}, Vas a formar parte de la tripulación de Pyratilla\".format(name))\n",
        "        print (\"Tu nombre es: {}\".format(name))\n",
        "        print (\"Tu edad es: {}\".format(yearold))\n",
        "        print (\"Tu hobby es: {}\".format(hobby))\n",
        "        print (\"Tu sueño es: {}\".format(dream))\n",
        "      else:\n",
        "        print (\"{}, Debes especificar tu sueño\".format(name))\n",
        "    else:\n",
        "      print (\"{}, Tu hobby debe tener más de 10 caracteres\".format(name))\n",
        "else:\n",
        "    print (\"{}, Tu edad no permite que seas parte de la tripualación Pyratilla\".format(name))"
      ],
      "execution_count": null,
      "outputs": []
    }
  ]
}