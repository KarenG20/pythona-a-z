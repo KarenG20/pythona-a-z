{
  "nbformat": 4,
  "nbformat_minor": 0,
  "metadata": {
    "colab": {
      "provenance": [],
      "toc_visible": true,
      "include_colab_link": true
    },
    "kernelspec": {
      "name": "python3",
      "display_name": "Python 3"
    }
  },
  "cells": [
    {
      "cell_type": "markdown",
      "metadata": {
        "id": "view-in-github",
        "colab_type": "text"
      },
      "source": [
        "<a href=\"https://colab.research.google.com/github/KarenG20/pythona-a-z/blob/string_python/03_Tema03.ipynb\" target=\"_parent\"><img src=\"https://colab.research.google.com/assets/colab-badge.svg\" alt=\"Open In Colab\"/></a>"
      ]
    },
    {
      "cell_type": "markdown",
      "metadata": {
        "id": "pWGdvvZGDSM7"
      },
      "source": [
        "# Strings en `Python`"
      ]
    },
    {
      "cell_type": "code",
      "source": [],
      "metadata": {
        "id": "8hEwJgF_Dz5f"
      },
      "execution_count": null,
      "outputs": []
    },
    {
      "cell_type": "markdown",
      "metadata": {
        "id": "p1MJUGv7DXFh"
      },
      "source": [
        "## Variable string\n",
        "\n",
        "**String.** Cadena ordenada de caracteres.\n",
        "\n",
        "Una variable de tipo string es aquella que guarda un string. Cuando queremos que una variable se trate de una variable de tipo string, `str` en `Python`, a la hora de declararla, el contenido de la variable debe ir o bien entre comillas dobles `\" \"`, o bien entre comillas simples `' ' `."
      ]
    },
    {
      "cell_type": "code",
      "metadata": {
        "id": "z9K1rKqJDUL2",
        "colab": {
          "base_uri": "https://localhost:8080/"
        },
        "outputId": "0a5dcfc4-a6d3-4925-f486-2d7b03c42dfc"
      },
      "source": [
        "s1 = \"Esto es un string entre comillas dobles\"\n",
        "type(s1)"
      ],
      "execution_count": null,
      "outputs": [
        {
          "output_type": "execute_result",
          "data": {
            "text/plain": [
              "str"
            ]
          },
          "metadata": {},
          "execution_count": 17
        }
      ]
    },
    {
      "cell_type": "code",
      "metadata": {
        "id": "mzpZ1jlRDvzG",
        "colab": {
          "base_uri": "https://localhost:8080/"
        },
        "outputId": "2173dd8d-34df-47d1-8713-f532bd0b0b52"
      },
      "source": [
        "s2 = 'Esto es un string entre comillas simples'\n",
        "type(s2)"
      ],
      "execution_count": null,
      "outputs": [
        {
          "output_type": "execute_result",
          "data": {
            "text/plain": [
              "str"
            ]
          },
          "metadata": {},
          "execution_count": 18
        }
      ]
    },
    {
      "cell_type": "markdown",
      "metadata": {
        "id": "CP00rWi1NqN8"
      },
      "source": [
        "**¡Cuidado!** `Python` no trabaja bien con los acentos. Por tanto, aunque no esté del todo bien escrito, mejor evitarlos, pues nos ahorraremos muchos problemas."
      ]
    },
    {
      "cell_type": "markdown",
      "metadata": {
        "id": "yQE5dsY9EsBd"
      },
      "source": [
        "### String literals\n",
        "\n",
        "El hecho de que el contenido de las variables de tipo `str` vaya entre comillas, ya sean simples o dobles, conlleva a que algunos caracteres deban ser tratados de forma especial.\n",
        "\n",
        "Aquí entran en juego los string literals. Algunos de los más utilizados se muestran en la siguiente tabla:\n",
        "\n",
        "Código | Significado |\n",
        "--- | --- |\n",
        "`\\\\` | Backslash, `\\`|\n",
        "`\\'` | Comilla simple, `'`|\n",
        "`\\\"` | Comilla doble, `\"`|  \n",
        "`\\n` | Salto de línea|\n",
        "`\\t` | Tabulación horizontal|\n",
        "\n",
        "Para más información acerca de los string literals ir a la [documentación](https://docs.python.org/3.7/reference/lexical_analysis.html#string-and-bytes-literals).\n"
      ]
    },
    {
      "cell_type": "markdown",
      "metadata": {
        "id": "jSI6oVIcHPAK"
      },
      "source": [
        "---\n",
        "#### Ejemplo 1\n",
        "\n",
        "Si queremos guardar en una variable el siguiente texto,\n",
        "\n",
        "`Orlando dijo: \"me gusta el chocolate\"`\n",
        "\n",
        "lo tendremos que hacer del siguiente modo"
      ]
    },
    {
      "cell_type": "code",
      "metadata": {
        "id": "q5TXs8tMEKZj",
        "colab": {
          "base_uri": "https://localhost:8080/",
          "height": 35
        },
        "outputId": "ed988e19-4783-4417-b993-ff2c09e8f273"
      },
      "source": [
        "s1 = \"Orlando dijo: \\\"me gusta el chocolate \\\"\"\n",
        "s1"
      ],
      "execution_count": null,
      "outputs": [
        {
          "output_type": "execute_result",
          "data": {
            "text/plain": [
              "'Orlando dijo: \"me gusta el chocolate \"'"
            ],
            "application/vnd.google.colaboratory.intrinsic+json": {
              "type": "string"
            }
          },
          "metadata": {},
          "execution_count": 19
        }
      ]
    },
    {
      "cell_type": "code",
      "metadata": {
        "id": "DMlEKKGRILc_",
        "colab": {
          "base_uri": "https://localhost:8080/",
          "height": 35
        },
        "outputId": "c398d71a-885d-4a4e-b8f5-32e81914e26e"
      },
      "source": [
        "s2 = 'Orlando dijo: \"me gusta el chocolate \"'\n",
        "s2"
      ],
      "execution_count": null,
      "outputs": [
        {
          "output_type": "execute_result",
          "data": {
            "text/plain": [
              "'Orlando dijo: \"me gusta el chocolate \"'"
            ],
            "application/vnd.google.colaboratory.intrinsic+json": {
              "type": "string"
            }
          },
          "metadata": {},
          "execution_count": 20
        }
      ]
    },
    {
      "cell_type": "markdown",
      "metadata": {
        "id": "v-6s10ZbIaV3"
      },
      "source": [
        "**Observación.** Si usamos comillas dobles, para guardar la frase de este ejemplo necesitaremos usar string literals, ya que si no nos saltará error. Sin embargo, si usamos comillas simples, para guardar la frase de este ejemplo en una variable no hace falta que cambiemos nada.\n",
        "\n",
        "---\n",
        "\n",
        "---\n",
        "#### Ejemplo 2\n",
        "\n",
        "Si queremos guardar en una variable el siguiente texto,\n",
        "\n",
        "`Ricardo dijo: 'me gusta la playa'`\n",
        "\n",
        "lo tendremos que hacer del siguiente modo"
      ]
    },
    {
      "cell_type": "code",
      "metadata": {
        "id": "NJUu6Z9IIO7c",
        "colab": {
          "base_uri": "https://localhost:8080/",
          "height": 35
        },
        "outputId": "e4fbb710-7a58-40f1-8ddf-2cdd4a90cfe9"
      },
      "source": [
        "s1 = \"Ricardo dijo: 'me gusta la playa'\"\n",
        "s1"
      ],
      "execution_count": null,
      "outputs": [
        {
          "output_type": "execute_result",
          "data": {
            "text/plain": [
              "\"Ricardo dijo: 'me gusta la playa'\""
            ],
            "application/vnd.google.colaboratory.intrinsic+json": {
              "type": "string"
            }
          },
          "metadata": {},
          "execution_count": 21
        }
      ]
    },
    {
      "cell_type": "code",
      "metadata": {
        "id": "o7h1UMMfJD9e",
        "colab": {
          "base_uri": "https://localhost:8080/",
          "height": 35
        },
        "outputId": "4ed64d1b-e525-448a-82aa-5a8b7a2eb5a3"
      },
      "source": [
        "s2 = 'Ricardo dijo: \\'me gusta la playa\\''\n",
        "s2"
      ],
      "execution_count": null,
      "outputs": [
        {
          "output_type": "execute_result",
          "data": {
            "text/plain": [
              "\"Ricardo dijo: 'me gusta la playa'\""
            ],
            "application/vnd.google.colaboratory.intrinsic+json": {
              "type": "string"
            }
          },
          "metadata": {},
          "execution_count": 22
        }
      ]
    },
    {
      "cell_type": "markdown",
      "metadata": {
        "id": "_ScRiZYLJK3f"
      },
      "source": [
        "**Observación.** Si usamos comillas dobles, para guardar la frase de este ejemplo no necesitaremos usar string literals. Sin embargo, si usamos comillas simples, para guardar la frase de este ejemplo en una variable tendremos que usar string literals, porque si no nos saltará un error.\n",
        "\n",
        "---\n",
        "\n"
      ]
    },
    {
      "cell_type": "markdown",
      "metadata": {
        "id": "qHOqGw_WDVxv"
      },
      "source": [
        "---\n",
        "#### Ejemplo 3\n",
        "\n",
        "Si queremos guardar en una variable el siguiente texto y que se conserve el salto de línea,\n",
        "\n",
        "`Con diez cañones por banda,`\n",
        "\n",
        "`viento en popa a toda vela`\n",
        "\n",
        "lo tendremos que hacer del siguiente modo"
      ]
    },
    {
      "cell_type": "code",
      "metadata": {
        "id": "vItHOB6gR0Nh",
        "colab": {
          "base_uri": "https://localhost:8080/",
          "height": 35
        },
        "outputId": "54bc2844-926b-4d7e-e600-e93ae332fcae"
      },
      "source": [
        "s3 = \"Con diez cañones por banda,\\nviento en popa a toda vela\"\n",
        "s3"
      ],
      "execution_count": null,
      "outputs": [
        {
          "output_type": "execute_result",
          "data": {
            "text/plain": [
              "'Con diez cañones por banda,\\nviento en popa a toda vela'"
            ],
            "application/vnd.google.colaboratory.intrinsic+json": {
              "type": "string"
            }
          },
          "metadata": {},
          "execution_count": 23
        }
      ]
    },
    {
      "cell_type": "code",
      "source": [
        "print(s3)"
      ],
      "metadata": {
        "colab": {
          "base_uri": "https://localhost:8080/"
        },
        "id": "sGRLyuYgC536",
        "outputId": "21bb12ab-ee39-48ed-8eff-1ec891f67ce1"
      },
      "execution_count": null,
      "outputs": [
        {
          "output_type": "stream",
          "name": "stdout",
          "text": [
            "Con diez cañones por banda,\n",
            "viento en popa a toda vela\n"
          ]
        }
      ]
    },
    {
      "cell_type": "markdown",
      "metadata": {
        "id": "_pXp4xoPSDOD"
      },
      "source": [
        "**Observación.** El resultado con el salto de línea aplicado lo veremos cuando hablemos de la función `print()`, cosa que haremos más adelante en esta sección.\n",
        "\n",
        "---"
      ]
    },
    {
      "cell_type": "markdown",
      "metadata": {
        "id": "ALPGQb7JJcg6"
      },
      "source": [
        "## Concatenación de strings\n",
        "\n",
        "La concatenación es una operación que une dos o más strings en uno solo.\n",
        "\n",
        "En `Python`, para concatenar dos variables de tipo string usamos la función `+`."
      ]
    },
    {
      "cell_type": "code",
      "metadata": {
        "id": "z_7YiTa_JJBl",
        "colab": {
          "base_uri": "https://localhost:8080/",
          "height": 35
        },
        "outputId": "5fa27e7d-25c1-4b49-994b-642ea8e9c717"
      },
      "source": [
        "s1 = \"Hola\"\n",
        "s2 = \"Daniel\"\n",
        "s1 +\", \" + s2"
      ],
      "execution_count": null,
      "outputs": [
        {
          "output_type": "execute_result",
          "data": {
            "text/plain": [
              "'Hola, Daniel'"
            ],
            "application/vnd.google.colaboratory.intrinsic+json": {
              "type": "string"
            }
          },
          "metadata": {},
          "execution_count": 27
        }
      ]
    },
    {
      "cell_type": "markdown",
      "metadata": {
        "id": "rNOCfEiSJwYw"
      },
      "source": [
        "**Observación.** La concatenación viene a ser como pegar el final del primer string con el princio del segundo. Entonces, conviene poner un espacio al final de la primera variable a concatenar, o bien al principio de la segunda para que así, al realizar la concatenación, exista ese espacio entre las palabras.\n",
        "\n",
        "De no añadir espacios adicionales, obtendríamos resultados como el mostrado en el siguiente chunk:"
      ]
    },
    {
      "cell_type": "code",
      "metadata": {
        "id": "jdF-7yN2Juxn",
        "colab": {
          "base_uri": "https://localhost:8080/",
          "height": 35
        },
        "outputId": "451ab97c-2691-47e4-c783-f1a7af09b42b"
      },
      "source": [
        "s1 = \"Bienvenido\"\n",
        "s2 = \"al curso.\"\n",
        "s1 + s2"
      ],
      "execution_count": null,
      "outputs": [
        {
          "output_type": "execute_result",
          "data": {
            "text/plain": [
              "'Bienvenidoal curso.'"
            ],
            "application/vnd.google.colaboratory.intrinsic+json": {
              "type": "string"
            }
          },
          "metadata": {},
          "execution_count": 28
        }
      ]
    },
    {
      "cell_type": "markdown",
      "metadata": {
        "id": "d9dZEzk_KWAz"
      },
      "source": [
        "Si dejamos un espacio adicional al final del string `s1`, obtenemos"
      ]
    },
    {
      "cell_type": "code",
      "metadata": {
        "id": "_EJuV27TKRbh",
        "colab": {
          "base_uri": "https://localhost:8080/",
          "height": 35
        },
        "outputId": "31e08168-846e-4c5a-e7a5-fc06a5d856d3"
      },
      "source": [
        "s1 = \"Bienvenido \"\n",
        "s2 = \"al curso.\"\n",
        "s1 + s2"
      ],
      "execution_count": null,
      "outputs": [
        {
          "output_type": "execute_result",
          "data": {
            "text/plain": [
              "'Bienvenido al curso.'"
            ],
            "application/vnd.google.colaboratory.intrinsic+json": {
              "type": "string"
            }
          },
          "metadata": {},
          "execution_count": 29
        }
      ]
    },
    {
      "cell_type": "markdown",
      "metadata": {
        "id": "9du5E41ZKav0"
      },
      "source": [
        "Si dejamos un espacio adicional al principio del string `s2` obtenemos"
      ]
    },
    {
      "cell_type": "code",
      "metadata": {
        "id": "3vP2F5IaKZ_6",
        "colab": {
          "base_uri": "https://localhost:8080/",
          "height": 35
        },
        "outputId": "c6675be1-d273-4988-9e1e-d34864d56405"
      },
      "source": [
        "s1 = \"Bienvenido\"\n",
        "s2 = \" al curso.\"\n",
        "s1 + s2"
      ],
      "execution_count": null,
      "outputs": [
        {
          "output_type": "execute_result",
          "data": {
            "text/plain": [
              "'Bienvenido al curso.'"
            ],
            "application/vnd.google.colaboratory.intrinsic+json": {
              "type": "string"
            }
          },
          "metadata": {},
          "execution_count": 30
        }
      ]
    },
    {
      "cell_type": "markdown",
      "metadata": {
        "id": "Ym6pM_JpKjZc"
      },
      "source": [
        "Si dejamos un espacio adicional tanto al final del string `s1` como al principio del string `s2` obtenemos"
      ]
    },
    {
      "cell_type": "code",
      "metadata": {
        "id": "9LuM4dKXKgXm",
        "colab": {
          "base_uri": "https://localhost:8080/",
          "height": 35
        },
        "outputId": "b8ced8fb-96f4-4d4e-faf4-392a0d4641ef"
      },
      "source": [
        "s1 = \"Bienvenido \"\n",
        "s2 = \" al curso.\"\n",
        "s1 + s2"
      ],
      "execution_count": null,
      "outputs": [
        {
          "output_type": "execute_result",
          "data": {
            "text/plain": [
              "'Bienvenido  al curso.'"
            ],
            "application/vnd.google.colaboratory.intrinsic+json": {
              "type": "string"
            }
          },
          "metadata": {},
          "execution_count": 31
        }
      ]
    },
    {
      "cell_type": "markdown",
      "metadata": {
        "id": "NU_rFNFgK89O"
      },
      "source": [
        "Si dejamos más de un espacio adicional ya sea al final del string `s1` como al principio del string `s2` obtenemos"
      ]
    },
    {
      "cell_type": "code",
      "metadata": {
        "id": "r7Z3Nk5aKntY",
        "colab": {
          "base_uri": "https://localhost:8080/",
          "height": 35
        },
        "outputId": "aad4feea-05fe-4fb8-a77b-d877f30ea806"
      },
      "source": [
        "s1 = \"Bienvenido   \" # Se han dejado 3 espacios adicionales\n",
        "s2 = \"al curso.\"\n",
        "s1 + s2"
      ],
      "execution_count": null,
      "outputs": [
        {
          "output_type": "execute_result",
          "data": {
            "text/plain": [
              "'Bienvenido   al curso.'"
            ],
            "application/vnd.google.colaboratory.intrinsic+json": {
              "type": "string"
            }
          },
          "metadata": {},
          "execution_count": 33
        }
      ]
    },
    {
      "cell_type": "markdown",
      "metadata": {
        "id": "vzQYnkCGLGkm"
      },
      "source": [
        "**Observación.** El número de espacios añadidos se conserva. Más adelante en esta sección veremos como eliminar los posibles espacios en blanco sobrantes."
      ]
    },
    {
      "cell_type": "markdown",
      "metadata": {
        "id": "qHgzWLOSLinW"
      },
      "source": [
        "## Repetición de strings\n",
        "\n",
        "La repetición es una operación que repite la variable string tantas veces como indiquemos.\n",
        "\n",
        "En `Python`, para repetir una variable de tipo string usamos la función `*`. El orden de los factores no altera el producto. Es decir, tanto da usar la sintaxis `num_repeticiones * variable_str` como `variable_str * num__repeticiones`."
      ]
    },
    {
      "cell_type": "code",
      "metadata": {
        "id": "LpodGsA0LEin",
        "colab": {
          "base_uri": "https://localhost:8080/",
          "height": 35
        },
        "outputId": "6282f633-0c59-44f3-de5b-e1f428ffe6c3"
      },
      "source": [
        "s1 = \"¿Falta mucho?\"\n",
        "(s1+ \" \") * 5"
      ],
      "execution_count": null,
      "outputs": [
        {
          "output_type": "execute_result",
          "data": {
            "text/plain": [
              "'¿Falta mucho? ¿Falta mucho? ¿Falta mucho? ¿Falta mucho? ¿Falta mucho? '"
            ],
            "application/vnd.google.colaboratory.intrinsic+json": {
              "type": "string"
            }
          },
          "metadata": {},
          "execution_count": 40
        }
      ]
    },
    {
      "cell_type": "code",
      "metadata": {
        "id": "sztiZXAvLyZ6",
        "colab": {
          "base_uri": "https://localhost:8080/",
          "height": 35
        },
        "outputId": "e18f5063-7a9f-4f09-a5ca-71688bbdb50c"
      },
      "source": [
        "s2 = \" ¿Hemos llegado ya?\"\n",
        "5 * s2"
      ],
      "execution_count": null,
      "outputs": [
        {
          "output_type": "execute_result",
          "data": {
            "text/plain": [
              "' ¿Hemos llegado ya? ¿Hemos llegado ya? ¿Hemos llegado ya? ¿Hemos llegado ya? ¿Hemos llegado ya?'"
            ],
            "application/vnd.google.colaboratory.intrinsic+json": {
              "type": "string"
            }
          },
          "metadata": {},
          "execution_count": 37
        }
      ]
    },
    {
      "cell_type": "markdown",
      "metadata": {
        "id": "cSIsJQ_BL_Y9"
      },
      "source": [
        "**Observación.** Al igual que ocurría con la concatenación, hay que añadir manualmente uno o más espacios en blanco al principio o al final del string para que las repeticiones no estén pegadas las unas a las otras, tal y como ocurre en el siguiente chunk de código."
      ]
    },
    {
      "cell_type": "code",
      "metadata": {
        "id": "_pzo0JaSL7Vp",
        "colab": {
          "base_uri": "https://localhost:8080/",
          "height": 35
        },
        "outputId": "62e1a27b-2b9a-4ab7-92d9-603bd609d33f"
      },
      "source": [
        "s3 = \"Había una vez un barquito chiquitito\"\n",
        "s3 * 2"
      ],
      "execution_count": null,
      "outputs": [
        {
          "output_type": "execute_result",
          "data": {
            "text/plain": [
              "'Había una vez un barquito chiquititoHabía una vez un barquito chiquitito'"
            ],
            "application/vnd.google.colaboratory.intrinsic+json": {
              "type": "string"
            }
          },
          "metadata": {},
          "execution_count": 41
        }
      ]
    },
    {
      "cell_type": "markdown",
      "metadata": {
        "id": "wo25mW-rOrXR"
      },
      "source": [
        "## La función `print()`\n",
        "\n",
        "Hasta ahora, cada vez que mostrábamos strings por pantalla, estos salían entre comillas simples.\n",
        "\n",
        "La función `print()` nos sirve, entre otras muchas cosas, para mostrar strings por pantalla."
      ]
    },
    {
      "cell_type": "code",
      "metadata": {
        "id": "K2MoiN21M1uA",
        "colab": {
          "base_uri": "https://localhost:8080/",
          "height": 35
        },
        "outputId": "1849be67-a3a8-4d2f-8550-ce5d7af2d404"
      },
      "source": [
        "s = \"Hello world\"\n",
        "s"
      ],
      "execution_count": null,
      "outputs": [
        {
          "output_type": "execute_result",
          "data": {
            "text/plain": [
              "'Hello world'"
            ],
            "application/vnd.google.colaboratory.intrinsic+json": {
              "type": "string"
            }
          },
          "metadata": {},
          "execution_count": 42
        }
      ]
    },
    {
      "cell_type": "code",
      "metadata": {
        "id": "xVQc9sEsPO8Z",
        "colab": {
          "base_uri": "https://localhost:8080/"
        },
        "outputId": "85c0e556-3ac5-453f-d0e3-768318c917fe"
      },
      "source": [
        "print(s)"
      ],
      "execution_count": null,
      "outputs": [
        {
          "output_type": "stream",
          "name": "stdout",
          "text": [
            "Hello world\n"
          ]
        }
      ]
    },
    {
      "cell_type": "markdown",
      "metadata": {
        "id": "dtYOLUMpPTIW"
      },
      "source": [
        "**Observación.** Como véis, una de las principales diferencias entre usar la función `print()` o no usarla es que a la hora de mostrar la cadena de caracteres por pantalla, ésta no va entre comillas simples y el formato en que se imprime también es diferente."
      ]
    },
    {
      "cell_type": "markdown",
      "metadata": {
        "id": "MYnRe5auPdQY"
      },
      "source": [
        "No solamente podemos imprimir strings, sino que podemos mostrar el resultado de cualquier variable (numérica o de tipo string)"
      ]
    },
    {
      "cell_type": "code",
      "metadata": {
        "id": "ENJnmijKPPZC",
        "colab": {
          "base_uri": "https://localhost:8080/"
        },
        "outputId": "c69888a3-6195-4f2d-ac7b-fcbe5e7c65d5"
      },
      "source": [
        "x = \"Vivo en una isla\"\n",
        "print(x)"
      ],
      "execution_count": null,
      "outputs": [
        {
          "output_type": "stream",
          "name": "stdout",
          "text": [
            "Vivo en una isla\n"
          ]
        }
      ]
    },
    {
      "cell_type": "code",
      "metadata": {
        "id": "dtGN6_P1PiP-",
        "colab": {
          "base_uri": "https://localhost:8080/"
        },
        "outputId": "9fcbf2d8-839a-4179-c1b8-0af6912775b3"
      },
      "source": [
        "y = 2.0\n",
        "print(y)"
      ],
      "execution_count": null,
      "outputs": [
        {
          "output_type": "stream",
          "name": "stdout",
          "text": [
            "2.0\n"
          ]
        }
      ]
    },
    {
      "cell_type": "markdown",
      "metadata": {
        "id": "GHlENu3_PkfP"
      },
      "source": [
        "Al igual que podíamos concatenar strings con la función `+`, combinando ésta junto con la función `print()` podemos concatenar strings con variables que almacenan strings"
      ]
    },
    {
      "cell_type": "code",
      "metadata": {
        "id": "HB77iDi_Pjkg",
        "colab": {
          "base_uri": "https://localhost:8080/"
        },
        "outputId": "1303e53b-05df-4d55-b676-04092decfcb2"
      },
      "source": [
        "name = \"Sra Laura\"\n",
        "print(\"¡Buenos días, \" + name + \"!\")"
      ],
      "execution_count": null,
      "outputs": [
        {
          "output_type": "stream",
          "name": "stdout",
          "text": [
            "¡Buenos días, Sra Laura!\n"
          ]
        }
      ]
    },
    {
      "cell_type": "markdown",
      "metadata": {
        "id": "MDtylwkDQIkh"
      },
      "source": [
        "**Observación.** Recordad introducir un espacio adicional siempre que vayáis a concatenar cualquier cosa (strings con strings, strings con variables...), para que así el resultado quede legible.\n",
        "\n",
        "**Observación.** Utilizando la función `print()`, el uso de acentos o de algunos caracteres especiales como `¿` o `¡` ya no dan problemas a la hora de mostrarse por pantalla.\n",
        "\n",
        "**Observación.** Podemos obtener exactamente el mismo resultado utilizando comas (`,`) en vez de la función `+`. Eso sí, después de cada coma se nos añade automáticamente un espacio en blanco que no siempre buscamos, como ocurre a continuación después del resultado de la variable `name`."
      ]
    },
    {
      "cell_type": "code",
      "metadata": {
        "colab": {
          "base_uri": "https://localhost:8080/"
        },
        "id": "XXvLP3cZkCBz",
        "outputId": "defc840b-f33f-4f0a-a4b9-88e2fd9033ad"
      },
      "source": [
        "name = \"Sra Sandra\"\n",
        "print(\"¡Buenos días,\", name + \"!\")"
      ],
      "execution_count": null,
      "outputs": [
        {
          "output_type": "stream",
          "name": "stdout",
          "text": [
            "¡Buenos días, Sra Sandra!\n"
          ]
        }
      ]
    },
    {
      "cell_type": "markdown",
      "metadata": {
        "id": "FfdJvochQjiq"
      },
      "source": [
        "Al igual que podíamos repetir un mismo string un número cualquiera de veces con la función `*`, combinando ésta junto con la función `print()` podemos multiplicar un string o variables que contengan strings"
      ]
    },
    {
      "cell_type": "code",
      "metadata": {
        "id": "OihlvdsJPz4g",
        "colab": {
          "base_uri": "https://localhost:8080/"
        },
        "outputId": "4e5e76a2-b49d-4a54-91f6-e0e23876c62d"
      },
      "source": [
        "print(\"¿Falta mucho? \" * 5)"
      ],
      "execution_count": null,
      "outputs": [
        {
          "output_type": "stream",
          "name": "stdout",
          "text": [
            "¿Falta mucho? ¿Falta mucho? ¿Falta mucho? ¿Falta mucho? ¿Falta mucho? \n"
          ]
        }
      ]
    },
    {
      "cell_type": "code",
      "metadata": {
        "id": "YSdUxXurQpJA",
        "colab": {
          "base_uri": "https://localhost:8080/"
        },
        "outputId": "527ae842-7e14-4af3-b6d5-232fe522b7b4"
      },
      "source": [
        "pregunta = \"¿Falta mucho? \"\n",
        "print(pregunta * 5)"
      ],
      "execution_count": null,
      "outputs": [
        {
          "output_type": "stream",
          "name": "stdout",
          "text": [
            "¿Falta mucho? ¿Falta mucho? ¿Falta mucho? ¿Falta mucho? ¿Falta mucho? \n"
          ]
        }
      ]
    },
    {
      "cell_type": "markdown",
      "metadata": {
        "id": "wvEiZ5QaQtlO"
      },
      "source": [
        "### La función `str()`\n",
        "\n",
        "Con la función `str()`, podemos concatenar strings y variables de cualquier tipo dentro de un `print()`:"
      ]
    },
    {
      "cell_type": "code",
      "metadata": {
        "id": "AX3MbsTIQqtw",
        "colab": {
          "base_uri": "https://localhost:8080/"
        },
        "outputId": "ad1276db-45d6-443d-bd87-9bd2315d1fdd"
      },
      "source": [
        "nombre = \"María\"\n",
        "edad = 22\n",
        "print(\"Mi hermana se llama\", nombre,\"y su edad es\" , str(edad) )"
      ],
      "execution_count": null,
      "outputs": [
        {
          "output_type": "stream",
          "name": "stdout",
          "text": [
            "Mi hermana se llama María y su edad es 22\n"
          ]
        }
      ]
    },
    {
      "cell_type": "code",
      "source": [
        "nombre = \"María\"\n",
        "edad = 22\n",
        "print(\"Mi hermana se llama \"+ nombre +\" y su edad es \" + str(edad) )"
      ],
      "metadata": {
        "colab": {
          "base_uri": "https://localhost:8080/"
        },
        "id": "-ODgSJgqcc9N",
        "outputId": "1193dae0-87cf-4176-9cb0-99c3446f4081"
      },
      "execution_count": null,
      "outputs": [
        {
          "output_type": "stream",
          "name": "stdout",
          "text": [
            "Mi hermana se llama María y su edad es 22\n"
          ]
        }
      ]
    },
    {
      "cell_type": "markdown",
      "metadata": {
        "id": "Ih9glB7MQ86u"
      },
      "source": [
        "### El método `.format()`\n",
        "\n",
        "Existe otra forma de concatenar strings y variables de cualquier tipo dentro de un `print()` y es gracias al método `.format()`. Lo que hay que hacer es indicar con llaves, `{}`, donde queremos situar el resultado de las variables y luego, dentro de los paréntesis del método `.format()`, indicar las variables en su respectivo orden"
      ]
    },
    {
      "cell_type": "code",
      "metadata": {
        "id": "JXsuEE6mQ5-2",
        "colab": {
          "base_uri": "https://localhost:8080/"
        },
        "outputId": "c08c022f-3458-4d47-d23f-e30df1e40619"
      },
      "source": [
        "nombre = \"Ricardo\"\n",
        "numero_gatos = 3\n",
        "print(\"Mi abuelo se llama {} y tiene {} gatos\".format(nombre, numero_gatos))"
      ],
      "execution_count": null,
      "outputs": [
        {
          "output_type": "stream",
          "name": "stdout",
          "text": [
            "Mi abuelo se llama Ricardo y tiene 3 gatos\n"
          ]
        }
      ]
    },
    {
      "cell_type": "markdown",
      "metadata": {
        "id": "h1aW0ELISP5F"
      },
      "source": [
        "### Saltos de línea y tabulaciones\n",
        "\n",
        "Si recordáis el ejemplo 3, teníamos la variable `s3`, que contenía un salto de línea"
      ]
    },
    {
      "cell_type": "code",
      "metadata": {
        "id": "iWt5g6NYROV6"
      },
      "source": [
        "s3 = \"Con diez cañones por banda,\\nviento en popa a toda vela\""
      ],
      "execution_count": null,
      "outputs": []
    },
    {
      "cell_type": "markdown",
      "metadata": {
        "id": "LB2fFkedSeGH"
      },
      "source": [
        "Con la función `print()`, seremos capaces de visualizar dicho salto de línea"
      ]
    },
    {
      "cell_type": "code",
      "metadata": {
        "id": "_GkauiL5SdL6",
        "colab": {
          "base_uri": "https://localhost:8080/"
        },
        "outputId": "8cd24a8c-f308-466d-9603-14ae9426885c"
      },
      "source": [
        "print(s3)"
      ],
      "execution_count": null,
      "outputs": [
        {
          "output_type": "stream",
          "name": "stdout",
          "text": [
            "Con diez cañones por banda,\n",
            "viento en popa a toda vela\n"
          ]
        }
      ]
    },
    {
      "cell_type": "markdown",
      "metadata": {
        "id": "s3XBd_rTSjzf"
      },
      "source": [
        "Y lo mismo ocurriría con la tabulación horizontal."
      ]
    },
    {
      "cell_type": "code",
      "metadata": {
        "id": "0SKrWJ9wSipI",
        "colab": {
          "base_uri": "https://localhost:8080/",
          "height": 35
        },
        "outputId": "8f68536b-6bfc-45cf-addc-a40edcf98692"
      },
      "source": [
        "s4 = \"La string literal \\\\t producía \\t una tabulación horizontal\"\n",
        "s4"
      ],
      "execution_count": null,
      "outputs": [
        {
          "output_type": "execute_result",
          "data": {
            "text/plain": [
              "'La string literal \\\\t producía \\t una tabulación horizontal'"
            ],
            "application/vnd.google.colaboratory.intrinsic+json": {
              "type": "string"
            }
          },
          "metadata": {},
          "execution_count": 66
        }
      ]
    },
    {
      "cell_type": "code",
      "metadata": {
        "id": "X6bxByQ1Sx1l",
        "colab": {
          "base_uri": "https://localhost:8080/"
        },
        "outputId": "746816c4-a90f-4f73-a3c3-7c1a2fe47a34"
      },
      "source": [
        "print(s4)"
      ],
      "execution_count": null,
      "outputs": [
        {
          "output_type": "stream",
          "name": "stdout",
          "text": [
            "La string literal \\t producía \t una tabulación horizontal\n"
          ]
        }
      ]
    },
    {
      "cell_type": "markdown",
      "metadata": {
        "id": "WoD3EBWYS4ts"
      },
      "source": [
        "## Substrings\n",
        "\n",
        "Para acceder a un caracter de una variable string usamos la sintaxis de `[]`"
      ]
    },
    {
      "cell_type": "code",
      "metadata": {
        "id": "HDNHCkOuS84O"
      },
      "source": [
        "s = \"Soy fan de los videojuegos\""
      ],
      "execution_count": null,
      "outputs": []
    },
    {
      "cell_type": "code",
      "metadata": {
        "id": "mleJd9yDz2aO",
        "colab": {
          "base_uri": "https://localhost:8080/",
          "height": 35
        },
        "outputId": "43680720-b715-454c-eec2-40dfa85db927"
      },
      "source": [
        "s[0] # Primer caracter"
      ],
      "execution_count": null,
      "outputs": [
        {
          "output_type": "execute_result",
          "data": {
            "text/plain": [
              "'S'"
            ],
            "application/vnd.google.colaboratory.intrinsic+json": {
              "type": "string"
            }
          },
          "metadata": {},
          "execution_count": 74
        }
      ]
    },
    {
      "cell_type": "code",
      "metadata": {
        "id": "zuTsx3EWz20K",
        "colab": {
          "base_uri": "https://localhost:8080/",
          "height": 35
        },
        "outputId": "a31896ca-f33e-429d-be87-52b56ffd58ea"
      },
      "source": [
        "s[5] # Sexto caracter"
      ],
      "execution_count": null,
      "outputs": [
        {
          "output_type": "execute_result",
          "data": {
            "text/plain": [
              "'a'"
            ],
            "application/vnd.google.colaboratory.intrinsic+json": {
              "type": "string"
            }
          },
          "metadata": {},
          "execution_count": 71
        }
      ]
    },
    {
      "cell_type": "markdown",
      "metadata": {
        "id": "LHb1cjRfz9qi"
      },
      "source": [
        "**¡Cuidado!** En `Python`, los índices siempre empiezan en 0, al contrario de lo que ocurre con otros lenguajes de programación, como por ejemplo `R`."
      ]
    },
    {
      "cell_type": "markdown",
      "metadata": {
        "id": "hLzZPNdt0Gha"
      },
      "source": [
        "Si precedemos el índice por un `-`, entonces empezamos desde el final"
      ]
    },
    {
      "cell_type": "code",
      "metadata": {
        "id": "GkCm5VQVz6uM",
        "colab": {
          "base_uri": "https://localhost:8080/",
          "height": 35
        },
        "outputId": "914377a4-2e8d-49b8-9111-8ad72e5f24de"
      },
      "source": [
        "s[-1] # Último elemento"
      ],
      "execution_count": null,
      "outputs": [
        {
          "output_type": "execute_result",
          "data": {
            "text/plain": [
              "'s'"
            ],
            "application/vnd.google.colaboratory.intrinsic+json": {
              "type": "string"
            }
          },
          "metadata": {},
          "execution_count": 75
        }
      ]
    },
    {
      "cell_type": "code",
      "metadata": {
        "id": "niBjyqij0LHK",
        "colab": {
          "base_uri": "https://localhost:8080/",
          "height": 35
        },
        "outputId": "048387e8-8be4-479c-96f4-8976ab397c89"
      },
      "source": [
        "s[-7] # Séptimo elemento empezando por el final"
      ],
      "execution_count": null,
      "outputs": [
        {
          "output_type": "execute_result",
          "data": {
            "text/plain": [
              "'o'"
            ],
            "application/vnd.google.colaboratory.intrinsic+json": {
              "type": "string"
            }
          },
          "metadata": {},
          "execution_count": 76
        }
      ]
    },
    {
      "cell_type": "markdown",
      "metadata": {
        "id": "TUyZcCC10cw7"
      },
      "source": [
        "Si queremos acceder a varios caracteres seguidos, podemos utilizar la función `:`"
      ]
    },
    {
      "cell_type": "code",
      "metadata": {
        "id": "_RoR2o970Phv",
        "colab": {
          "base_uri": "https://localhost:8080/",
          "height": 35
        },
        "outputId": "b0ce9567-183c-45a3-f632-4f97caa3078e"
      },
      "source": [
        "s[4:7] # Del quinto al séptimo # el septimo en este caso no es incluido"
      ],
      "execution_count": null,
      "outputs": [
        {
          "output_type": "execute_result",
          "data": {
            "text/plain": [
              "'fan'"
            ],
            "application/vnd.google.colaboratory.intrinsic+json": {
              "type": "string"
            }
          },
          "metadata": {},
          "execution_count": 79
        }
      ]
    },
    {
      "cell_type": "code",
      "metadata": {
        "id": "AxGN5YDN0hUI",
        "colab": {
          "base_uri": "https://localhost:8080/",
          "height": 35
        },
        "outputId": "6482d1e1-0157-4435-b771-37a9dcc1fadf"
      },
      "source": [
        "s[:7] # Del primero al séptimo # el septiemo no esta incluido"
      ],
      "execution_count": null,
      "outputs": [
        {
          "output_type": "execute_result",
          "data": {
            "text/plain": [
              "'Soy fan'"
            ],
            "application/vnd.google.colaboratory.intrinsic+json": {
              "type": "string"
            }
          },
          "metadata": {},
          "execution_count": 83
        }
      ]
    },
    {
      "cell_type": "code",
      "metadata": {
        "id": "teaoOQ6-0wTL",
        "colab": {
          "base_uri": "https://localhost:8080/",
          "height": 35
        },
        "outputId": "3ca4458c-57d8-44ea-d5c3-e4325bea1f16"
      },
      "source": [
        "s[8:] # Del noveno al final"
      ],
      "execution_count": null,
      "outputs": [
        {
          "output_type": "execute_result",
          "data": {
            "text/plain": [
              "'de los videojuegos'"
            ],
            "application/vnd.google.colaboratory.intrinsic+json": {
              "type": "string"
            }
          },
          "metadata": {},
          "execution_count": 84
        }
      ]
    },
    {
      "cell_type": "markdown",
      "metadata": {
        "id": "5K42r-av1Afn"
      },
      "source": [
        "**¡Cuidado!** En `Python`, siempre que usemos la función `:`, el índice que se encuentra a la derecha nunca es incluido, tal y como hemos visto en los ejemplos anteriores."
      ]
    },
    {
      "cell_type": "markdown",
      "metadata": {
        "id": "0rlXs9bj1ODn"
      },
      "source": [
        "Si precedemos por `-` al índice de la izquierda de `:` y no ponemos ninguno a su derecha, lo que hacemos es obtener los últimos elementos"
      ]
    },
    {
      "cell_type": "code",
      "metadata": {
        "id": "cyF8_JVM07ju",
        "colab": {
          "base_uri": "https://localhost:8080/",
          "height": 35
        },
        "outputId": "7a9ba5b6-a653-49b4-9cfa-571022a54198"
      },
      "source": [
        "s[-11:] # Diez últimos elementos"
      ],
      "execution_count": null,
      "outputs": [
        {
          "output_type": "execute_result",
          "data": {
            "text/plain": [
              "'videojuegos'"
            ],
            "application/vnd.google.colaboratory.intrinsic+json": {
              "type": "string"
            }
          },
          "metadata": {},
          "execution_count": 87
        }
      ]
    },
    {
      "cell_type": "markdown",
      "metadata": {
        "id": "f6j9wom51fMl"
      },
      "source": [
        "Si al contrario, precedemos por `-` al índice de la derecha, sin poner ningún índice a la izquierda de `:`, obtendremos todos los elementos salvo el número de elementos indicados por el índice (recordemos que si precedíamos por `-`, los índices empezaban desde el final)."
      ]
    },
    {
      "cell_type": "code",
      "metadata": {
        "id": "WVoZjls11Wj2",
        "colab": {
          "base_uri": "https://localhost:8080/",
          "height": 35
        },
        "outputId": "bf839f07-4ae5-4fcb-b174-44ee26df531b"
      },
      "source": [
        "s[:-10] # desde le inicio ahasta la 10 ultimas posiciones"
      ],
      "execution_count": null,
      "outputs": [
        {
          "output_type": "execute_result",
          "data": {
            "text/plain": [
              "'Soy fan de los v'"
            ],
            "application/vnd.google.colaboratory.intrinsic+json": {
              "type": "string"
            }
          },
          "metadata": {},
          "execution_count": 89
        }
      ]
    },
    {
      "cell_type": "markdown",
      "metadata": {
        "id": "u7sP_Cdi2dZk"
      },
      "source": [
        "## Métodos para trabajar con strings\n",
        "\n",
        "El método `.lower()` nos transforma el string que indiquemos a minúsculas."
      ]
    },
    {
      "cell_type": "code",
      "metadata": {
        "id": "Gn-wbbuA2ffk",
        "colab": {
          "base_uri": "https://localhost:8080/",
          "height": 35
        },
        "outputId": "e74c1bdf-4a5b-4e4f-86d5-aeffcf832811"
      },
      "source": [
        "s = \"Me ENCANTAN el chocolate y las galletas\"\n",
        "s.lower()"
      ],
      "execution_count": null,
      "outputs": [
        {
          "output_type": "execute_result",
          "data": {
            "text/plain": [
              "'me encantan el chocolate y las galletas'"
            ],
            "application/vnd.google.colaboratory.intrinsic+json": {
              "type": "string"
            }
          },
          "metadata": {},
          "execution_count": 6
        }
      ]
    },
    {
      "cell_type": "markdown",
      "metadata": {
        "id": "pVwPf8GF2rP9"
      },
      "source": [
        "El método `.upper()`, por el contrario, lo transforma a mayúsculas."
      ]
    },
    {
      "cell_type": "code",
      "metadata": {
        "id": "GjKFBLe12ono",
        "colab": {
          "base_uri": "https://localhost:8080/",
          "height": 35
        },
        "outputId": "7ee40362-8af3-463c-edd4-ba95b70f84c6"
      },
      "source": [
        "s.upper()"
      ],
      "execution_count": null,
      "outputs": [
        {
          "output_type": "execute_result",
          "data": {
            "text/plain": [
              "'ME ENCANTAN EL CHOCOLATE Y LAS GALLETAS'"
            ],
            "application/vnd.google.colaboratory.intrinsic+json": {
              "type": "string"
            }
          },
          "metadata": {},
          "execution_count": 7
        }
      ]
    },
    {
      "cell_type": "markdown",
      "metadata": {
        "id": "d-U6pEFr2w_8"
      },
      "source": [
        "El método `.count()` cuenta cuántas veces aparece una letra o un string dentro del string al cuál le aplicamos dicho método."
      ]
    },
    {
      "cell_type": "code",
      "metadata": {
        "id": "WHrUtUGm22Qv",
        "colab": {
          "base_uri": "https://localhost:8080/"
        },
        "outputId": "4ab73a34-ae6f-4785-a76f-a6db93622cf9"
      },
      "source": [
        "s.count(\"o\")"
      ],
      "execution_count": null,
      "outputs": [
        {
          "output_type": "execute_result",
          "data": {
            "text/plain": [
              "2"
            ]
          },
          "metadata": {},
          "execution_count": 8
        }
      ]
    },
    {
      "cell_type": "code",
      "metadata": {
        "id": "v1NpXiaw23Zy",
        "colab": {
          "base_uri": "https://localhost:8080/"
        },
        "outputId": "f4fb6148-2266-49ca-d7ca-aa5391688941"
      },
      "source": [
        "s.count(\"la\")"
      ],
      "execution_count": null,
      "outputs": [
        {
          "output_type": "execute_result",
          "data": {
            "text/plain": [
              "2"
            ]
          },
          "metadata": {},
          "execution_count": 9
        }
      ]
    },
    {
      "cell_type": "markdown",
      "metadata": {
        "id": "gTXHdGeP24_0"
      },
      "source": [
        "El método `.capitalize()` convierte a mayúscula el primer caracter de un string."
      ]
    },
    {
      "cell_type": "code",
      "metadata": {
        "id": "BszJBqto299f",
        "colab": {
          "base_uri": "https://localhost:8080/",
          "height": 35
        },
        "outputId": "0d412170-70f6-4f55-823a-1eb9e96a535e"
      },
      "source": [
        "s = \"me encanta aprender con udemy\"\n",
        "s.capitalize()"
      ],
      "execution_count": null,
      "outputs": [
        {
          "output_type": "execute_result",
          "data": {
            "text/plain": [
              "'Me encanta aprender con udemy'"
            ],
            "application/vnd.google.colaboratory.intrinsic+json": {
              "type": "string"
            }
          },
          "metadata": {},
          "execution_count": 10
        }
      ]
    },
    {
      "cell_type": "markdown",
      "metadata": {
        "id": "1zIb1zEU3BQN"
      },
      "source": [
        "El método `.title()` convierte a mayúscula el primer caracter de cada palabra de un string."
      ]
    },
    {
      "cell_type": "code",
      "metadata": {
        "id": "s2gL1zRF3AoF",
        "colab": {
          "base_uri": "https://localhost:8080/",
          "height": 35
        },
        "outputId": "8c0b689d-47d3-4c57-ae71-bbed087c1976"
      },
      "source": [
        "s.title()"
      ],
      "execution_count": null,
      "outputs": [
        {
          "output_type": "execute_result",
          "data": {
            "text/plain": [
              "'Me Encanta Aprender Con Udemy'"
            ],
            "application/vnd.google.colaboratory.intrinsic+json": {
              "type": "string"
            }
          },
          "metadata": {},
          "execution_count": 11
        }
      ]
    },
    {
      "cell_type": "markdown",
      "metadata": {
        "id": "2fqeJUOn3ILj"
      },
      "source": [
        "El método `.swapcase()` convierte a mayúscula las minúsculas y viceversa."
      ]
    },
    {
      "cell_type": "code",
      "metadata": {
        "id": "VeU1qC4u3HXP",
        "colab": {
          "base_uri": "https://localhost:8080/",
          "height": 35
        },
        "outputId": "743f13e9-e452-4974-e3dc-d3d30a929b19"
      },
      "source": [
        "s = \"Me ENCANTA aprender con Udemy\"\n",
        "s.swapcase()"
      ],
      "execution_count": null,
      "outputs": [
        {
          "output_type": "execute_result",
          "data": {
            "text/plain": [
              "'mE encanta APRENDER CON uDEMY'"
            ],
            "application/vnd.google.colaboratory.intrinsic+json": {
              "type": "string"
            }
          },
          "metadata": {},
          "execution_count": 12
        }
      ]
    },
    {
      "cell_type": "markdown",
      "metadata": {
        "id": "5WVp6XYF3lo7"
      },
      "source": [
        "El método `.replace()` reemplaza el caracter (o caracteres) que le indiquemos por el string que queramos."
      ]
    },
    {
      "cell_type": "code",
      "metadata": {
        "id": "xQkL3nnw3iHq",
        "colab": {
          "base_uri": "https://localhost:8080/",
          "height": 35
        },
        "outputId": "9c0d780f-c8a8-4800-cfc8-db1bac67ed19"
      },
      "source": [
        "s = \"Los tomberis son buenos\"\n",
        "s.replace(\"buenos\", \"malos\")"
      ],
      "execution_count": null,
      "outputs": [
        {
          "output_type": "execute_result",
          "data": {
            "text/plain": [
              "'Los tomberis son malos'"
            ],
            "application/vnd.google.colaboratory.intrinsic+json": {
              "type": "string"
            }
          },
          "metadata": {},
          "execution_count": 13
        }
      ]
    },
    {
      "cell_type": "markdown",
      "metadata": {
        "id": "gxSJQG3K3mTr"
      },
      "source": [
        "El método `.split()` rompe el string en el caracter que le indiquemos y elimina dicho caracter."
      ]
    },
    {
      "cell_type": "code",
      "metadata": {
        "id": "jhGO866B3mlm",
        "colab": {
          "base_uri": "https://localhost:8080/"
        },
        "outputId": "de2c11a0-689d-4c36-e30d-c7e209b46c19"
      },
      "source": [
        "s = \"El elefante tiene las orejas muy grandes\"\n",
        "s.split(\"e\") # Rompemos por la letra e minúscula"
      ],
      "execution_count": null,
      "outputs": [
        {
          "output_type": "execute_result",
          "data": {
            "text/plain": [
              "['El ', 'l', 'fant', ' ti', 'n', ' las or', 'jas muy grand', 's']"
            ]
          },
          "metadata": {},
          "execution_count": 14
        }
      ]
    },
    {
      "cell_type": "code",
      "metadata": {
        "id": "DOgE3iLB3w5a",
        "colab": {
          "base_uri": "https://localhost:8080/"
        },
        "outputId": "a4734db2-a23c-4ebb-fc43-11c07a1b8d7d"
      },
      "source": [
        "s.split(\" \") # Rompemos por los espacios"
      ],
      "execution_count": null,
      "outputs": [
        {
          "output_type": "execute_result",
          "data": {
            "text/plain": [
              "['El', 'elefante', 'tiene', 'las', 'orejas', 'muy', 'grandes']"
            ]
          },
          "metadata": {},
          "execution_count": 15
        }
      ]
    },
    {
      "cell_type": "code",
      "metadata": {
        "id": "ZBHs-oAf30f7",
        "colab": {
          "base_uri": "https://localhost:8080/"
        },
        "outputId": "b5fddb2a-d36c-420e-820a-87a15bc98abe"
      },
      "source": [
        "s.split(\"tiene\") # Rompemos por la palabra tiene"
      ],
      "execution_count": null,
      "outputs": [
        {
          "output_type": "execute_result",
          "data": {
            "text/plain": [
              "['El elefante ', ' las orejas muy grandes']"
            ]
          },
          "metadata": {},
          "execution_count": 16
        }
      ]
    },
    {
      "cell_type": "markdown",
      "metadata": {
        "id": "jnkzw3ud3zWr"
      },
      "source": [
        "El método `.strip()` elimina los espacios sobrantes a principio y final del string."
      ]
    },
    {
      "cell_type": "code",
      "metadata": {
        "id": "174KMod83z6f",
        "colab": {
          "base_uri": "https://localhost:8080/",
          "height": 35
        },
        "outputId": "a7a44c46-be10-4252-898f-b374592d5651"
      },
      "source": [
        "s = \"       El elefante tiene las orejas muy grandes        \"\n",
        "s.strip()"
      ],
      "execution_count": null,
      "outputs": [
        {
          "output_type": "execute_result",
          "data": {
            "text/plain": [
              "'El elefante tiene las orejas muy grandes'"
            ],
            "application/vnd.google.colaboratory.intrinsic+json": {
              "type": "string"
            }
          },
          "metadata": {},
          "execution_count": 17
        }
      ]
    },
    {
      "cell_type": "markdown",
      "metadata": {
        "id": "M34jtbv23mw2"
      },
      "source": [
        "El método `.rstrip()` elimina los espacios sobrantes al final del string."
      ]
    },
    {
      "cell_type": "code",
      "metadata": {
        "id": "7QFOJlwt3m7S",
        "colab": {
          "base_uri": "https://localhost:8080/",
          "height": 35
        },
        "outputId": "fd2da0f9-2ce5-4cf3-d3d1-ca08dbc867aa"
      },
      "source": [
        "s.rstrip()"
      ],
      "execution_count": null,
      "outputs": [
        {
          "output_type": "execute_result",
          "data": {
            "text/plain": [
              "'       El elefante tiene las orejas muy grandes'"
            ],
            "application/vnd.google.colaboratory.intrinsic+json": {
              "type": "string"
            }
          },
          "metadata": {},
          "execution_count": 18
        }
      ]
    },
    {
      "cell_type": "markdown",
      "metadata": {
        "id": "0yM1RMrb3nEM"
      },
      "source": [
        "El método .lstrip() elimina los espacios sobrantes al principio del string."
      ]
    },
    {
      "cell_type": "code",
      "metadata": {
        "id": "4FCine1W3nNk",
        "colab": {
          "base_uri": "https://localhost:8080/",
          "height": 35
        },
        "outputId": "4b47941a-fe3d-4e40-c915-60d687c732e6"
      },
      "source": [
        "s.lstrip()"
      ],
      "execution_count": null,
      "outputs": [
        {
          "output_type": "execute_result",
          "data": {
            "text/plain": [
              "'El elefante tiene las orejas muy grandes        '"
            ],
            "application/vnd.google.colaboratory.intrinsic+json": {
              "type": "string"
            }
          },
          "metadata": {},
          "execution_count": 19
        }
      ]
    },
    {
      "cell_type": "markdown",
      "metadata": {
        "id": "Z9oSmTbA4L3W"
      },
      "source": [
        "El método `.find()` busca el caracter que indiquemos y nos devuelve la primera posición en la que aparece."
      ]
    },
    {
      "cell_type": "code",
      "metadata": {
        "id": "rEaaxUSd4MDY",
        "colab": {
          "base_uri": "https://localhost:8080/"
        },
        "outputId": "bdeae86c-f633-4750-f216-bf02a2b41d6f"
      },
      "source": [
        "s = \"Este es un curso de Python para hacer en casa o en cualquier lado\"\n",
        "s.find(\"e\")"
      ],
      "execution_count": null,
      "outputs": [
        {
          "output_type": "execute_result",
          "data": {
            "text/plain": [
              "3"
            ]
          },
          "metadata": {},
          "execution_count": 20
        }
      ]
    },
    {
      "cell_type": "markdown",
      "metadata": {
        "id": "4Y2hu9Jt4ML4"
      },
      "source": [
        "Si le pedimos buscar un conjunto de caracteres, nos devuelve la posición del primer caracter de dicho conjunto"
      ]
    },
    {
      "cell_type": "code",
      "metadata": {
        "id": "gsnhV2gR4MWf",
        "colab": {
          "base_uri": "https://localhost:8080/"
        },
        "outputId": "8b607002-bbec-449c-b8d3-9fd6dc25a89b"
      },
      "source": [
        "s.find(\"casa\")"
      ],
      "execution_count": null,
      "outputs": [
        {
          "output_type": "execute_result",
          "data": {
            "text/plain": [
              "41"
            ]
          },
          "metadata": {},
          "execution_count": 21
        }
      ]
    },
    {
      "cell_type": "markdown",
      "metadata": {
        "id": "AfIpgQEd4Mfp"
      },
      "source": [
        "El método `.find()` tiene otros dos parámetros de uso opcional: `start` y `end`, que sirven para indicar donde queremos que empiece la búsqueda y donde queremos que acabe."
      ]
    },
    {
      "cell_type": "code",
      "metadata": {
        "id": "6GZODGOe4MqF",
        "colab": {
          "base_uri": "https://localhost:8080/"
        },
        "outputId": "d0f8c99b-7c7b-4067-a909-98d472e03c37"
      },
      "source": [
        "s.find(\"e\", 10) # Solamente indicamos start"
      ],
      "execution_count": null,
      "outputs": [
        {
          "output_type": "execute_result",
          "data": {
            "text/plain": [
              "18"
            ]
          },
          "metadata": {},
          "execution_count": 22
        }
      ]
    },
    {
      "cell_type": "code",
      "metadata": {
        "id": "pxqhw5R74Jkc",
        "colab": {
          "base_uri": "https://localhost:8080/"
        },
        "outputId": "e5243d7d-bf3d-43cd-b89b-04edb911c481"
      },
      "source": [
        "s.find(\"e\", 30, 40) # Indicamos start y end"
      ],
      "execution_count": null,
      "outputs": [
        {
          "output_type": "execute_result",
          "data": {
            "text/plain": [
              "35"
            ]
          },
          "metadata": {},
          "execution_count": 23
        }
      ]
    },
    {
      "cell_type": "markdown",
      "metadata": {
        "id": "lv0GUT774du7"
      },
      "source": [
        "El método `.index()` busca el caracter que indiquemos y nos devuelve la primera posición en la que aparece."
      ]
    },
    {
      "cell_type": "code",
      "metadata": {
        "id": "mhAHevAp4c-D",
        "colab": {
          "base_uri": "https://localhost:8080/"
        },
        "outputId": "38b2e1ff-56f0-48ec-81ab-568c15bc63dd"
      },
      "source": [
        "s = \"Este es un curso de Python para hacer en casa o en cualquier lado\"\n",
        "s.index(\"e\")"
      ],
      "execution_count": null,
      "outputs": [
        {
          "output_type": "execute_result",
          "data": {
            "text/plain": [
              "3"
            ]
          },
          "metadata": {},
          "execution_count": 24
        }
      ]
    },
    {
      "cell_type": "markdown",
      "metadata": {
        "id": "ReL419Ff4f2O"
      },
      "source": [
        "Si le pedimos buscar un conjunto de caracteres, nos devuelve la posición del primer caracter de dicho conjunto"
      ]
    },
    {
      "cell_type": "code",
      "metadata": {
        "id": "3qw39rOo4gAs",
        "colab": {
          "base_uri": "https://localhost:8080/"
        },
        "outputId": "b5718bae-f0f0-4e45-b120-8c797e461d4c"
      },
      "source": [
        "s.index(\"casa\")"
      ],
      "execution_count": null,
      "outputs": [
        {
          "output_type": "execute_result",
          "data": {
            "text/plain": [
              "41"
            ]
          },
          "metadata": {},
          "execution_count": 25
        }
      ]
    },
    {
      "cell_type": "markdown",
      "metadata": {
        "id": "Q55AVtkc4gJb"
      },
      "source": [
        "El método `.index()` tiene otros dos parámetros de uso opcional: `start` y `end`, que sirven para indicar donde queremos que empiece la búsqueda y donde queremos que acabe."
      ]
    },
    {
      "cell_type": "code",
      "metadata": {
        "id": "PL2h_YI_4gSq",
        "colab": {
          "base_uri": "https://localhost:8080/"
        },
        "outputId": "f6570a3f-2c94-488b-dc1e-2044b8f8ce45"
      },
      "source": [
        "s.index(\"e\", 10) # Solamente indicamos start"
      ],
      "execution_count": null,
      "outputs": [
        {
          "output_type": "execute_result",
          "data": {
            "text/plain": [
              "18"
            ]
          },
          "metadata": {},
          "execution_count": 26
        }
      ]
    },
    {
      "cell_type": "code",
      "metadata": {
        "id": "SzG-6ySH4gh3",
        "colab": {
          "base_uri": "https://localhost:8080/"
        },
        "outputId": "abc731e4-1275-4d7c-ddd8-e6ee8f401b72"
      },
      "source": [
        "s.index(\"e\", 30, 40) # Indicamos start y end"
      ],
      "execution_count": null,
      "outputs": [
        {
          "output_type": "execute_result",
          "data": {
            "text/plain": [
              "35"
            ]
          },
          "metadata": {},
          "execution_count": 27
        }
      ]
    },
    {
      "cell_type": "markdown",
      "metadata": {
        "id": "QdICgelP41YE"
      },
      "source": [
        "**Observación.** Observemos que los métodos `.index()` y `.find()` son casi idénticos. El único punto en que difieren es que si el caracter indicado no se encuentra en el string, el método `.index()` arroja error, mientras que `.find()` arroja el índice -1."
      ]
    },
    {
      "cell_type": "markdown",
      "metadata": {
        "id": "9fR30sFA5AVz"
      },
      "source": [
        "El método `.rindex()` busca el caracter que indiquemos y devuelve el último indice en el que fue encontrado."
      ]
    },
    {
      "cell_type": "code",
      "metadata": {
        "id": "liuRHCVn4z9x",
        "colab": {
          "base_uri": "https://localhost:8080/"
        },
        "outputId": "6e4a1d22-6fc9-4da8-80d7-882accae4b82"
      },
      "source": [
        "s.rindex(\"e\")"
      ],
      "execution_count": null,
      "outputs": [
        {
          "output_type": "execute_result",
          "data": {
            "text/plain": [
              "58"
            ]
          },
          "metadata": {},
          "execution_count": 28
        }
      ]
    },
    {
      "cell_type": "markdown",
      "metadata": {
        "id": "nuQI5n_v5EWq"
      },
      "source": [
        "También consta de los dos parámetros de uso opcional: `start` y `end`, que sirven para indicar donde queremos que empiece la búsqueda y donde queremos que acabe."
      ]
    },
    {
      "cell_type": "markdown",
      "metadata": {
        "id": "jH8Zr1mK40lM"
      },
      "source": [
        "## Otras funciones a tener en cuenta\n",
        "\n",
        "La función `len()` nos devuelve el número de caracteres del string."
      ]
    },
    {
      "cell_type": "code",
      "metadata": {
        "id": "z50sileY4g1z",
        "colab": {
          "base_uri": "https://localhost:8080/"
        },
        "outputId": "4e77589e-bac3-4398-ab44-c92615e7d0c5"
      },
      "source": [
        "s = \"Tengo hambre ahora\"\n",
        "len(s)"
      ],
      "execution_count": null,
      "outputs": [
        {
          "output_type": "execute_result",
          "data": {
            "text/plain": [
              "18"
            ]
          },
          "metadata": {},
          "execution_count": 2
        }
      ]
    },
    {
      "cell_type": "markdown",
      "metadata": {
        "id": "EEJNBlbC5T-7"
      },
      "source": [
        "**Observación.** Los espacios en blanco también son caracteres, por lo que éstos también son incluidos al contar el número de caracteres de los que consta un string."
      ]
    },
    {
      "cell_type": "markdown",
      "metadata": {
        "id": "3nZ0nBmv4hk0"
      },
      "source": [
        "Si tenemos un número en formato string, por mucho que sea un número para nosotros, en realidad `Python` no lo ve así. El gran problema es cuando queremos operar con un número que se encuentra en formato string. Ahí es donde entran en juego las funciones `int()` y `float()`, que lo que hacen es convertir a formato integer o float, respectivamente."
      ]
    },
    {
      "cell_type": "code",
      "metadata": {
        "id": "cU-KTJuE5kJU",
        "colab": {
          "base_uri": "https://localhost:8080/"
        },
        "outputId": "e1ce0486-dabe-432f-a9d3-e704ec925164"
      },
      "source": [
        "numero = \"5\"\n",
        "type(numero)"
      ],
      "execution_count": null,
      "outputs": [
        {
          "output_type": "execute_result",
          "data": {
            "text/plain": [
              "str"
            ]
          },
          "metadata": {},
          "execution_count": 3
        }
      ]
    },
    {
      "cell_type": "markdown",
      "metadata": {
        "id": "qbKkQv974hH6"
      },
      "source": [
        "En este caso, pasamos a formato integer:"
      ]
    },
    {
      "cell_type": "code",
      "metadata": {
        "id": "2kVHNJMh5oYW",
        "colab": {
          "base_uri": "https://localhost:8080/"
        },
        "outputId": "f36a7041-9179-4d27-800f-5851375ca6ef"
      },
      "source": [
        "numero_int = int(numero)\n",
        "numero_int"
      ],
      "execution_count": null,
      "outputs": [
        {
          "output_type": "execute_result",
          "data": {
            "text/plain": [
              "5"
            ]
          },
          "metadata": {},
          "execution_count": 4
        }
      ]
    },
    {
      "cell_type": "code",
      "metadata": {
        "id": "PPRmbP5X5rwP",
        "colab": {
          "base_uri": "https://localhost:8080/"
        },
        "outputId": "6ffdfb76-4000-4953-a2f3-095c6412900e"
      },
      "source": [
        "numero_int ** 2"
      ],
      "execution_count": null,
      "outputs": [
        {
          "output_type": "execute_result",
          "data": {
            "text/plain": [
              "25"
            ]
          },
          "metadata": {},
          "execution_count": 5
        }
      ]
    },
    {
      "cell_type": "code",
      "metadata": {
        "id": "kHioebTH5sfv",
        "colab": {
          "base_uri": "https://localhost:8080/"
        },
        "outputId": "59c6c046-c871-4886-d3c9-7f9f272a521b"
      },
      "source": [
        "type(numero_int)"
      ],
      "execution_count": null,
      "outputs": [
        {
          "output_type": "execute_result",
          "data": {
            "text/plain": [
              "int"
            ]
          },
          "metadata": {},
          "execution_count": 8
        }
      ]
    },
    {
      "cell_type": "markdown",
      "metadata": {
        "id": "bQsxU4Zx4guI"
      },
      "source": [
        "En este otro caso, pasamos a formato float:"
      ]
    },
    {
      "cell_type": "code",
      "metadata": {
        "id": "ktSLVA5f5xTW",
        "colab": {
          "base_uri": "https://localhost:8080/"
        },
        "outputId": "0a514508-4f2a-4694-fca7-70bb71a1f788"
      },
      "source": [
        "numero_float = float(numero)\n",
        "numero_float"
      ],
      "execution_count": null,
      "outputs": [
        {
          "output_type": "execute_result",
          "data": {
            "text/plain": [
              "5.0"
            ]
          },
          "metadata": {},
          "execution_count": 9
        }
      ]
    },
    {
      "cell_type": "code",
      "metadata": {
        "id": "ZVTn6fCW5xiS",
        "colab": {
          "base_uri": "https://localhost:8080/"
        },
        "outputId": "fa47429b-32a9-4732-a9c8-33db5f5956b8"
      },
      "source": [
        "numero_float ** 2 - numero_float"
      ],
      "execution_count": null,
      "outputs": [
        {
          "output_type": "execute_result",
          "data": {
            "text/plain": [
              "20.0"
            ]
          },
          "metadata": {},
          "execution_count": 10
        }
      ]
    },
    {
      "cell_type": "code",
      "metadata": {
        "id": "tIGai4WN5xw0",
        "colab": {
          "base_uri": "https://localhost:8080/"
        },
        "outputId": "7a3cd7c4-f89d-4d4a-9b6a-39fbc910323e"
      },
      "source": [
        "type(numero_float)"
      ],
      "execution_count": null,
      "outputs": [
        {
          "output_type": "execute_result",
          "data": {
            "text/plain": [
              "float"
            ]
          },
          "metadata": {},
          "execution_count": 11
        }
      ]
    },
    {
      "cell_type": "markdown",
      "metadata": {
        "id": "8ORueZaL4gbA"
      },
      "source": [
        "La función `input()` sirve para que el usuario introduzca un string por consola:"
      ]
    },
    {
      "cell_type": "code",
      "metadata": {
        "id": "Gx6GXzVx57u5",
        "colab": {
          "base_uri": "https://localhost:8080/"
        },
        "outputId": "f2f6ef8f-0ba6-4b2c-b1fc-82a296c85612"
      },
      "source": [
        "print(\"Introduce tu nombre: \")\n",
        "name = input(\"Nombre: \")"
      ],
      "execution_count": null,
      "outputs": [
        {
          "name": "stdout",
          "output_type": "stream",
          "text": [
            "Introduce tu nombre: \n",
            "Nombre: Karen Gómez\n"
          ]
        }
      ]
    },
    {
      "cell_type": "code",
      "metadata": {
        "id": "qnzcoY_s59oq",
        "colab": {
          "base_uri": "https://localhost:8080/",
          "height": 35
        },
        "outputId": "2a7c982c-905b-408f-d631-a2ba607991cb"
      },
      "source": [
        "name"
      ],
      "execution_count": null,
      "outputs": [
        {
          "output_type": "execute_result",
          "data": {
            "text/plain": [
              "'Karen Gómez'"
            ],
            "application/vnd.google.colaboratory.intrinsic+json": {
              "type": "string"
            }
          },
          "metadata": {},
          "execution_count": 16
        }
      ]
    },
    {
      "cell_type": "markdown",
      "metadata": {
        "id": "llPqUXvI6FAj"
      },
      "source": [
        "Aquí también nos serán útiles las funciones `int()` y `float()`, pues si en vez del nombre queremos que el usuario nos indique su edad o su altura, querremos tratar dichos valores como números. Entonces, haríamos lo siguiente"
      ]
    },
    {
      "cell_type": "code",
      "metadata": {
        "id": "gXoEV0_o6Axu",
        "colab": {
          "base_uri": "https://localhost:8080/"
        },
        "outputId": "222ded6c-3923-47b7-d6cc-85fddf0ba04b"
      },
      "source": [
        "print(\"Introduce tu edad: \")\n",
        "age = int(input(\"Edad: \"))"
      ],
      "execution_count": null,
      "outputs": [
        {
          "name": "stdout",
          "output_type": "stream",
          "text": [
            "Introduce tu edad: \n",
            "Edad: 32\n"
          ]
        }
      ]
    },
    {
      "cell_type": "code",
      "metadata": {
        "id": "ianS3k6G6L5p",
        "colab": {
          "base_uri": "https://localhost:8080/"
        },
        "outputId": "be066c2a-5efa-4450-b502-5f5c3f5d1886"
      },
      "source": [
        "print(\"Introduce tu altura: \")\n",
        "height = float(input(\"Altura (en m): \"))"
      ],
      "execution_count": null,
      "outputs": [
        {
          "name": "stdout",
          "output_type": "stream",
          "text": [
            "Introduce tu altura: \n",
            "Altura (en m): 1.60\n"
          ]
        }
      ]
    },
    {
      "cell_type": "code",
      "metadata": {
        "id": "qUCy1G-v6Owg",
        "colab": {
          "base_uri": "https://localhost:8080/"
        },
        "outputId": "ae969f12-6324-4a3e-cc59-c8fd4e067849"
      },
      "source": [
        "print(\"La edad de {} es {} y mide {} m\".format(name, age, height))"
      ],
      "execution_count": null,
      "outputs": [
        {
          "output_type": "stream",
          "name": "stdout",
          "text": [
            "La edad de Karen Gómez es 32 y mide 1.6 m\n"
          ]
        }
      ]
    }
  ]
}