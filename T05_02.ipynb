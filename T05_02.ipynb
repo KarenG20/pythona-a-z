{
  "nbformat": 4,
  "nbformat_minor": 0,
  "metadata": {
    "colab": {
      "provenance": [],
      "authorship_tag": "ABX9TyP3DXrEZ3qsFbZWUMSuHj+U",
      "include_colab_link": true
    },
    "kernelspec": {
      "name": "python3",
      "display_name": "Python 3"
    },
    "language_info": {
      "name": "python"
    }
  },
  "cells": [
    {
      "cell_type": "markdown",
      "metadata": {
        "id": "view-in-github",
        "colab_type": "text"
      },
      "source": [
        "<a href=\"https://colab.research.google.com/github/KarenG20/pythona-a-z/blob/main/T05_02.ipynb\" target=\"_parent\"><img src=\"https://colab.research.google.com/assets/colab-badge.svg\" alt=\"Open In Colab\"/></a>"
      ]
    },
    {
      "cell_type": "markdown",
      "source": [
        "## Ejercicio\n",
        "Con un break while, dado dos numeros enteros proporcionados por el usuario , vamos a encontrar el priemr número dvisible entre 2,3 y 5 siempre que sea posible, que encuentre dentro del intervalo formado por los dos números  dados por e usauario (ambos extremos tambén inculuidos )."
      ],
      "metadata": {
        "id": "0jxa4HFhyiVt"
      }
    },
    {
      "cell_type": "code",
      "execution_count": null,
      "metadata": {
        "id": "rBOgGTUZycyi"
      },
      "outputs": [],
      "source": [
        "a=int(input(\"Introduce el extremo izquierdo del intervalo: \"))\n",
        "b=int(input(\"Introduce el extremo derecho del intervalo: \"))\n",
        "n= a\n",
        "while n <= b:\n",
        "  if n%2==0 and n%3==0 and n%5==0:\n",
        "    print(\"El primer número divisible entre 2,3 y 5 es: \",n)\n",
        "    break\n",
        "  n+=1\n",
        "if n == b + 1:\n",
        "  print (\"Dentro de los intervalos {}-{} que has proporcionado, no hay entero divisibles entre 2,3 y 5\".format(a,b))\n"
      ]
    }
  ]
}