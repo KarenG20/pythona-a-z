{
  "nbformat": 4,
  "nbformat_minor": 0,
  "metadata": {
    "colab": {
      "provenance": [],
      "authorship_tag": "ABX9TyPrIUShINUDc7/8K6LaauXc",
      "include_colab_link": true
    },
    "kernelspec": {
      "name": "python3",
      "display_name": "Python 3"
    },
    "language_info": {
      "name": "python"
    }
  },
  "cells": [
    {
      "cell_type": "markdown",
      "metadata": {
        "id": "view-in-github",
        "colab_type": "text"
      },
      "source": [
        "<a href=\"https://colab.research.google.com/github/KarenG20/pythona-a-z/blob/main/T05_03.ipynb\" target=\"_parent\"><img src=\"https://colab.research.google.com/assets/colab-badge.svg\" alt=\"Open In Colab\"/></a>"
      ]
    },
    {
      "cell_type": "markdown",
      "source": [
        "## Ejercicio\n",
        "Vamos hacer que el usuario introduzca números por teclado e ir sumandolos, Caundo el usuario introduzca 0 saldremos del bucle while Al salir del bucle, con un else mostraremos la suma."
      ],
      "metadata": {
        "id": "uQUbmK2LeIpt"
      }
    },
    {
      "cell_type": "code",
      "execution_count": 2,
      "metadata": {
        "colab": {
          "base_uri": "https://localhost:8080/"
        },
        "id": "svaChBxDeDoU",
        "outputId": "21463f71-2587-4a6e-bd2b-4108b76c3323"
      },
      "outputs": [
        {
          "output_type": "stream",
          "name": "stdout",
          "text": [
            "Introduce un número: 4\n",
            "Introduce un número: 5\n",
            "Introduce un número: 6\n",
            "Introduce un número: 7\n",
            "Introduce un número: 0\n",
            "La suma total es  22.0\n"
          ]
        }
      ],
      "source": [
        "n = float (input (\"Introduce un número: \"))\n",
        "sum = 0\n",
        "while n != 0:\n",
        "    sum += n\n",
        "    n = float (input (\"Introduce un número: \"))\n",
        "else:\n",
        "    print (\"La suma total es \",sum)"
      ]
    }
  ]
}