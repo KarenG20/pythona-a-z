{
  "nbformat": 4,
  "nbformat_minor": 0,
  "metadata": {
    "colab": {
      "name": "03-task-5.ipynb",
      "provenance": [],
      "collapsed_sections": [],
      "include_colab_link": true
    },
    "kernelspec": {
      "name": "python3",
      "display_name": "Python 3"
    }
  },
  "cells": [
    {
      "cell_type": "markdown",
      "metadata": {
        "id": "view-in-github",
        "colab_type": "text"
      },
      "source": [
        "<a href=\"https://colab.research.google.com/github/KarenG20/pythona-a-z/blob/main/03_task_5.ipynb\" target=\"_parent\"><img src=\"https://colab.research.google.com/assets/colab-badge.svg\" alt=\"Open In Colab\"/></a>"
      ]
    },
    {
      "cell_type": "markdown",
      "metadata": {
        "id": "gp1d5MqrHYHb"
      },
      "source": [
        "# Reclutando tripulantes\n",
        "\n",
        "Pyratilla considera que ya va siendo hora de encontrar a su primer miembro de la tripulación. Para ello, lo primero que decide hacer es un anuncio."
      ]
    },
    {
      "cell_type": "code",
      "metadata": {
        "id": "ElrNTAgjHU1w"
      },
      "source": [
        "title = \"se busca tripulante\"\n",
        "message = \"se ofrece puesto en la tripulación del capitán pyratilla para llevar a cabo labores de marinero. comida y bebida garantizada a lo largo de toda la aventura.\"\n",
        "contact = \"para más información, ir al puerto y buscar al capitán pyratilla, ya famoso en este pueblo costero (evitar preguntar en el casino).\""
      ],
      "execution_count": 1,
      "outputs": []
    },
    {
      "cell_type": "markdown",
      "metadata": {
        "id": "PqXAkMAPI5Ra"
      },
      "source": [
        "Ayuda a Pyratilla a que el anuncio le quede bien:\n",
        "\n",
        "- El título debe estar todo en mayúsculas\n",
        "- El principio de cada frase debe estar en mayúscula\n",
        "- Cada vez que hay un cambio de variable, debe haber un salto de línea\n",
        "- El nombre de Pyratilla debe estar en mayúscula\n",
        "\n",
        "Pista: puede que te sea más fácil si guardas las dos frases de la variable `message` en dos variables diferentes y una vez las tengas listas, las vuelves a unir."
      ]
    },
    {
      "cell_type": "code",
      "metadata": {
        "id": "B7bhMPpSJY0V",
        "colab": {
          "base_uri": "https://localhost:8080/"
        },
        "outputId": "4db82f42-c8dc-4272-87b3-9aeeb508c599"
      },
      "source": [
        "title.upper()\n",
        "message.find(\".\")\n",
        "message1= message [:97]\n",
        "message2= message [97:]\n",
        "print ( title.upper()+\"\\n\"+ message1.capitalize ()+ message2.capitalize()+\"\\n\"+ contact.capitalize())\n"
      ],
      "execution_count": 17,
      "outputs": [
        {
          "output_type": "stream",
          "name": "stdout",
          "text": [
            "SE BUSCA TRIPULANTE\n",
            "Se ofrece puesto en la tripulación del capitán pyratilla para llevar a cabo labores de marinero. Comida y bebida garantizada a lo largo de toda la aventura.\n",
            "Para más información, ir al puerto y buscar al capitán pyratilla, ya famoso en este pueblo costero (evitar preguntar en el casino).\n"
          ]
        }
      ]
    },
    {
      "cell_type": "markdown",
      "metadata": {
        "id": "bWD5cnUtL6NB"
      },
      "source": [
        "## El formulario para los interesados en el anuncio\n",
        "\n",
        "Para evitar hacer entrevistas innecesarias, Pyratilla decide hacer un formulario para que cualquier interesado lo rellene y si pasa esa prueba, entonces le realizará una entrevista.\n",
        "\n",
        "Ayuda a Pyratilla a crear un formulario donde se pida amablemente el nombre, la edad, el hobby y el sueño al interesado en formar parte de la tripulación del capitán Pyratilla."
      ]
    },
    {
      "cell_type": "code",
      "metadata": {
        "id": "t_68axrQL8Yj",
        "colab": {
          "base_uri": "https://localhost:8080/"
        },
        "outputId": "6b483388-0be3-4d02-f513-db97843380d4"
      },
      "source": [
        "print(\"Digitar su nombre: \")\n",
        "name = input(\"Nombre: \")"
      ],
      "execution_count": 18,
      "outputs": [
        {
          "name": "stdout",
          "output_type": "stream",
          "text": [
            "Digitar su nombre: \n",
            "Nombre: Karen\n"
          ]
        }
      ]
    },
    {
      "cell_type": "code",
      "metadata": {
        "id": "QjSJuMcxNJW5",
        "colab": {
          "base_uri": "https://localhost:8080/"
        },
        "outputId": "01dc8a90-73c3-44f5-c90e-1d642e57e11c"
      },
      "source": [
        "print(\"Digitar su edad: \")\n",
        "age = int(input(\"Edad: \"))"
      ],
      "execution_count": 20,
      "outputs": [
        {
          "name": "stdout",
          "output_type": "stream",
          "text": [
            "Digitar su edad: \n",
            "Edad: 32\n"
          ]
        }
      ]
    },
    {
      "cell_type": "code",
      "metadata": {
        "id": "D7zMht_FNUQH",
        "colab": {
          "base_uri": "https://localhost:8080/"
        },
        "outputId": "18a918e7-5b6a-464b-a980-81c7ee8ce883"
      },
      "source": [
        "print(\"Cual es tu hobby: \")\n",
        "hobby = input(\"Hobby: \")"
      ],
      "execution_count": 21,
      "outputs": [
        {
          "name": "stdout",
          "output_type": "stream",
          "text": [
            "Cual es tu hobby: \n",
            "Hobby: Tocar Piano\n"
          ]
        }
      ]
    },
    {
      "cell_type": "code",
      "metadata": {
        "id": "GTyVOiWZNa-3",
        "colab": {
          "base_uri": "https://localhost:8080/"
        },
        "outputId": "19906456-996d-4533-8f44-4355e55544a7"
      },
      "source": [
        "print(\"Cual es su Sueño: \")\n",
        "vision = input(\"Sueño: \")"
      ],
      "execution_count": 22,
      "outputs": [
        {
          "name": "stdout",
          "output_type": "stream",
          "text": [
            "Cual es su Sueño: \n",
            "Sueño: Ser Data Science\n"
          ]
        }
      ]
    }
  ]
}