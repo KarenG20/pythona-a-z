{
  "nbformat": 4,
  "nbformat_minor": 0,
  "metadata": {
    "colab": {
      "provenance": [],
      "authorship_tag": "ABX9TyMsQ9aGzTFZ3kSo9S9xgN7e",
      "include_colab_link": true
    },
    "kernelspec": {
      "name": "python3",
      "display_name": "Python 3"
    },
    "language_info": {
      "name": "python"
    }
  },
  "cells": [
    {
      "cell_type": "markdown",
      "metadata": {
        "id": "view-in-github",
        "colab_type": "text"
      },
      "source": [
        "<a href=\"https://colab.research.google.com/github/KarenG20/pythona-a-z/blob/main/T05_01.ipynb\" target=\"_parent\"><img src=\"https://colab.research.google.com/assets/colab-badge.svg\" alt=\"Open In Colab\"/></a>"
      ]
    },
    {
      "cell_type": "markdown",
      "source": [
        "## Ejercicio\n",
        "Crea un bucle while dado un string vamos a recorrer una frase y contar el numero total de vocales"
      ],
      "metadata": {
        "id": "fmvoTNPLsVA8"
      }
    },
    {
      "cell_type": "code",
      "execution_count": 4,
      "metadata": {
        "colab": {
          "base_uri": "https://localhost:8080/"
        },
        "id": "DP9vkcPOsHMv",
        "outputId": "15c42e28-70f5-4204-f419-5c01c3768c57"
      },
      "outputs": [
        {
          "output_type": "stream",
          "name": "stdout",
          "text": [
            "El total de vocales son: 15\n"
          ]
        }
      ],
      "source": [
        "s =\"La vaca hace Muuu y estoy en Argentina\"\n",
        "i=0\n",
        "count=0\n",
        "while i < len(s):\n",
        "    if s[i] in \"aeiouAEIOU\":\n",
        "        count +=1\n",
        "    i+=1\n",
        "\n",
        "print(\"El total de vocales son:\",count)"
      ]
    },
    {
      "cell_type": "markdown",
      "source": [],
      "metadata": {
        "id": "KvKPY4KWstqK"
      }
    }
  ]
}